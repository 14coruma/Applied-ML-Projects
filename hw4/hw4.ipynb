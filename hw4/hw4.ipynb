{
 "cells": [
  {
   "cell_type": "markdown",
   "id": "herbal-chemical",
   "metadata": {},
   "source": [
    "# Homework 4: Unsupervised Learning\n",
    "Andrew Corum, Brendan Mcshane\n",
    "\n",
    "## Question 1\n",
    "About a week ago, Brendan and I decided how to split up the work (Brendan takes Q1, I answer Q2). \n",
    "\n",
    "On Monday, 4/19, Brendan told me that he was nearly done with Q1. However, I have not heard back from him in the last two days.\n",
    "\n",
    "I didn't complete Q1 by myself because I was under the impression that Brendan would be able to show me his results today. But it seems I am out of time to work on this.\n",
    "\n",
    "I might send you (Dr Willimamson and Junyi) an email to see what I should do. If I could have an extra day to work on the homework, then I would be able to answer Q1 myself and turn in a full assignment. Or is there another solution you can think of? I understand if the deadline needs to stay fixed at 4/21 11:59pm. But, if possible, I would like to avoid getting an unnexpected 50% on this assignment.\n",
    "\n",
    "Sorry for the trouble. This was a very hard issue to forsee since I had communication with Brendan for a while... but then no communication right before the deadline."
   ]
  },
  {
   "cell_type": "markdown",
   "id": "described-musician",
   "metadata": {},
   "source": [
    "## Question 2"
   ]
  },
  {
   "cell_type": "code",
   "execution_count": 49,
   "id": "fluid-seventh",
   "metadata": {},
   "outputs": [],
   "source": [
    "import numpy as np\n",
    "from time import time\n",
    "\n",
    "# Displaying images\n",
    "from PIL import Image\n",
    "from matplotlib.pyplot import imshow\n",
    "\n",
    "# ML libraries\n",
    "from sklearn.ensemble import RandomForestClassifier\n",
    "from sklearn.metrics import confusion_matrix\n",
    "from sklearn.decomposition import PCA\n",
    "from sklearn.metrics import accuracy_score"
   ]
  },
  {
   "cell_type": "code",
   "execution_count": 50,
   "id": "speaking-israel",
   "metadata": {},
   "outputs": [
    {
     "name": "stdout",
     "output_type": "stream",
     "text": [
      "Example label: 7\n",
      "Example image:\n"
     ]
    },
    {
     "data": {
      "image/png": "[encoded data removed]",
      "text/plain": [
       "<Figure size 432x288 with 1 Axes>"
      ]
     },
     "metadata": {
      "needs_background": "light"
     },
     "output_type": "display_data"
    }
   ],
   "source": [
    "# Function to load IDX formatted MNIST data from file\n",
    "def load_data(filename, image_data=False):\n",
    "    data = None\n",
    "    file = open(\"./data/\" + filename, \"rb\")\n",
    "    file.read(4) # Ignore magic number\n",
    "    N = int.from_bytes(file.read(4), 'big') # Get number of data points\n",
    "    if image_data:\n",
    "        R = int.from_bytes(file.read(4), 'big') # Get number of rows\n",
    "        C = int.from_bytes(file.read(4), 'big') # Get number of columns\n",
    "        data = np.frombuffer(file.read(N*R*C), dtype=np.uint8)\n",
    "        data = np.reshape(data, (N,R*C))\n",
    "    else:\n",
    "        data = np.frombuffer(file.read(N), dtype=np.uint8)\n",
    "        data = np.reshape(data, (N))\n",
    "    file.close()\n",
    "    return data\n",
    "\n",
    "# Get MNIST data\n",
    "train_images = load_data(\"train-images\", True)\n",
    "train_labels = load_data(\"train-labels\")\n",
    "test_images = load_data(\"test-images\", True)\n",
    "test_labels = load_data(\"test-labels\")\n",
    "\n",
    "# Test that data has been loaded properly\n",
    "print(\"Example label: {}\".format(test_labels[0]))\n",
    "print(\"Example image:\")\n",
    "im = Image.fromarray(test_images[0].reshape(28,28), mode='L')\n",
    "imshow(im);"
   ]
  },
  {
   "cell_type": "code",
   "execution_count": 54,
   "id": "leading-president",
   "metadata": {},
   "outputs": [
    {
     "name": "stdout",
     "output_type": "stream",
     "text": [
      "RF, no PCA\n",
      "  Dimension: 784\n",
      "  Time: 34.29003953933716\n",
      "  Accuracy: 0.9705\n",
      "[[ 969    0    0    0    0    2    5    1    3    0]\n",
      " [   0 1124    2    3    0    2    2    1    1    0]\n",
      " [   5    0  999    7    2    0    3    9    7    0]\n",
      " [   1    0   10  971    0   10    0    8    8    2]\n",
      " [   1    0    1    0  958    0    6    0    2   14]\n",
      " [   3    0    0   11    0  862    8    2    4    2]\n",
      " [   6    3    0    0    3    4  939    0    3    0]\n",
      " [   1    3   20    1    0    0    0  989    3   11]\n",
      " [   5    0    5    6    4    9    4    4  928    9]\n",
      " [   8    5    1    9    8    3    1    4    4  966]] \n",
      "\n"
     ]
    }
   ],
   "source": [
    "# RF, no PCA\n",
    "# Train RF\n",
    "clf = RandomForestClassifier(max_depth=None, n_estimators=100, random_state=0)\n",
    "t_start = time()\n",
    "clf.fit(train_images, train_labels)\n",
    "t = time() - t_start\n",
    "# Test & evaluate RF\n",
    "labels_pred = clf.predict(test_images)\n",
    "cfn = confusion_matrix(test_labels, labels_pred)\n",
    "acc = accuracy_score(test_labels, labels_pred)\n",
    "dim = test_images[0].size\n",
    "print(\"RF, no PCA\")\n",
    "print(\"  Dimension: {}\\n  Time: {}\\n  Accuracy: {}\".format(dim, t, acc))\n",
    "print(cfn, \"\\n\")"
   ]
  },
  {
   "cell_type": "code",
   "execution_count": 48,
   "id": "expanded-disorder",
   "metadata": {},
   "outputs": [
    {
     "name": "stdout",
     "output_type": "stream",
     "text": [
      "RF, PCA (0.95 explained variance ratio)\n",
      "  Dimension: 154\n",
      "  Time: 74.28770208358765\n",
      "  Accuracy: 0.949\n",
      "[[ 964    0    1    0    1    2    8    1    3    0]\n",
      " [   0 1120    3    4    0    2    4    0    2    0]\n",
      " [   8    0  968   12    8    3    3    9   20    1]\n",
      " [   2    1    5  956    1   12    2    9   17    5]\n",
      " [   1    2    7    2  933    1    9    2    2   23]\n",
      " [   2    0    4   30    3  832    8    3    6    4]\n",
      " [   8    4    2    0    3    7  933    0    1    0]\n",
      " [   1    6   20    2   10    0    0  965    1   23]\n",
      " [   6    0   10   18   11   20    4    5  890   10]\n",
      " [   6    5    3   14   26    4    0   12   10  929]] \n",
      "\n",
      "RF, PCA (0.9 explained variance ratio)\n",
      "  Dimension: 87\n",
      "  Time: 54.697843074798584\n",
      "  Accuracy: 0.9528\n",
      "[[ 964    0    3    1    1    4    5    1    1    0]\n",
      " [   0 1120    1    5    0    1    5    0    2    1]\n",
      " [   7    0  973   11    7    0    3    9   22    0]\n",
      " [   3    0    8  954    1   16    0    9   15    4]\n",
      " [   0    1    5    1  938    3    7    1    2   24]\n",
      " [   3    1    3   15    4  845    8    3    4    6]\n",
      " [   7    2    3    0    3    6  936    0    1    0]\n",
      " [   1    4   19    3    6    0    1  976    2   16]\n",
      " [   8    0   11   19    8   19    5    6  890    8]\n",
      " [   7    6    4   13   21    6    0   13    7  932]] \n",
      "\n",
      "RF, PCA (0.85 explained variance ratio)\n",
      "  Dimension: 59\n",
      "  Time: 42.87822866439819\n",
      "  Accuracy: 0.9545\n",
      "[[ 964    0    3    0    0    4    6    2    1    0]\n",
      " [   0 1119    4    4    0    1    4    0    2    1]\n",
      " [   6    0  979    9    5    1    2    9   20    1]\n",
      " [   1    0    7  957    2   14    2    6   17    4]\n",
      " [   1    0    4    0  940    2    8    1    2   24]\n",
      " [   4    1    2   22    6  839    9    1    5    3]\n",
      " [   6    3    1    0    6    4  937    0    1    0]\n",
      " [   2    5   19    2    6    0    0  971    3   20]\n",
      " [   4    0   10   15    9   15    3    5  906    7]\n",
      " [   4    6    3   14   24    7    0   11    7  933]] \n",
      "\n"
     ]
    }
   ],
   "source": [
    "# RF, with PCA, varying explained variance ratio\n",
    "for ev in [.95, .9, .85]:\n",
    "    # Apply PCA\n",
    "    pca = PCA(n_components=ev, svd_solver='full')\n",
    "    train_pca = pca.fit_transform(train_images)\n",
    "    # Train RF\n",
    "    clf = RandomForestClassifier(max_depth=None, n_estimators=100, random_state=0)\n",
    "    t_start = time()\n",
    "    clf.fit(train_pca, train_labels)\n",
    "    t = time() - t_start\n",
    "    # Test & evaluate RF\n",
    "    labels_pred = clf.predict(pca.transform(test_images))\n",
    "    cfn = confusion_matrix(test_labels, labels_pred)\n",
    "    acc = accuracy_score(test_labels, labels_pred)\n",
    "    dim = train_pca[0].size\n",
    "    print(\"RF, PCA ({} explained variance ratio)\".format(ev))\n",
    "    print(\"  Dimension: {}\\n  Time: {}\\n  Accuracy: {}\".format(dim, t, acc))\n",
    "    print(cfn, \"\\n\")"
   ]
  },
  {
   "cell_type": "markdown",
   "id": "honey-california",
   "metadata": {},
   "source": [
    "PCA reduces the dimension of our data. The input MNIST data contains 28x28 pixel images, so the dimension is 28x28 = 784. This is a very large number of features to include in a model, so it makes sense to use PCA to try to reduce the number of features.\n",
    "\n",
    "With 95% explained variance ratio (EVR), the PCA-reduced data has 154 dimensions. Then reducing further, 90% EVR gives 87 dimensions and 85% EVR reduces to 59 dimensions. Higher EVR means that the PCA-reduced dataset accounts for more of the variance within the original data. But when allowing for lower EVR, we are able to reduce the input dimension even more.\n",
    "\n",
    "Lowering the dimension of the input initially increases random forest (RF) training time. To train on all 60,000 images, it took ~35 seconds. But the initial reduction to 154 dimensions increased training time to ~74 seconds. This is likely because the PCA-reduced data is much less sparce than the original data. Remember, the MNIST data contains handwritten digits, so most of the features take value = 0 (white space). But PCA reduces a lot of these unnecessary features. However, among the PCA-reduced data, the further we reduce the dimension, the further we lower the RF training time.\n",
    "\n",
    "Comparing the No-PCA RF model to the 95%-PCA model, we see that the accuracy drops (97.1% to 94.9%). This is not surprising, as we lose a lot of information when the dimension of the data drops from 784 to 154. However, comparing the PCA models, we actually see an increase in accuracy as the EVR drops. Among the models trained on PCA-reduced data, the 85% EVR result performs best (95.5% accuracy). This can be explaind by the curse of dimensionality, which says that patterns in data often do not appear (or are harding to find) in higher dimensions. \n",
    "\n",
    "**Results:**\n",
    "\n",
    "| **PCA EVR**|**Dim**|**Time**|**Accuracy**|\n",
    "|------------|-----|------|----------|\n",
    "| N/A (1.00) | 784 | 34.3 | 0.971    |\n",
    "| 0.95       | 154 | 74.3 | 0.949    |\n",
    "| 0.90       | 87  | 54.7 | 0.953    |\n",
    "| 0.85       | 59  | 42.9 | 0.955    |"
   ]
  },
  {
   "cell_type": "markdown",
   "id": "concerned-berkeley",
   "metadata": {},
   "source": [
    "## Resources\n",
    "* MNIST dataset: https://deepai.org/dataset/mnist\n",
    "* Reading buffers to numpy arrays: https://stackoverflow.com/questions/47637758/how-can-i-make-a-numpy-ndarray-from-bytes\n",
    "* Jupyter images: https://stackoverflow.com/questions/26649716/how-to-show-pil-image-in-ipython-notebook\n",
    "* Pillow docs: https://pillow.readthedocs.io/en/stable/reference/Image.html\n",
    "* sklearn RF: https://scikit-learn.org/stable/modules/generated/sklearn.ensemble.RandomForestClassifier.html\n",
    "* sklearn confusion matrix: https://scikit-learn.org/stable/modules/generated/sklearn.metrics.confusion_matrix.html\n",
    "* sklearn PCA: https://scikit-learn.org/stable/modules/generated/sklearn.decomposition.PCA.html\n",
    "* sklearn score https://scikit-learn.org/stable/modules/generated/sklearn.metrics.accuracy_score.html"
   ]
  }
 ],
 "metadata": {
  "kernelspec": {
   "display_name": "Python 3",
   "language": "python",
   "name": "python3"
  },
  "language_info": {
   "codemirror_mode": {
    "name": "ipython",
    "version": 3
   },
   "file_extension": ".py",
   "mimetype": "text/x-python",
   "name": "python",
   "nbconvert_exporter": "python",
   "pygments_lexer": "ipython3",
   "version": "3.8.5"
  }
 },
 "nbformat": 4,
 "nbformat_minor": 5
}
