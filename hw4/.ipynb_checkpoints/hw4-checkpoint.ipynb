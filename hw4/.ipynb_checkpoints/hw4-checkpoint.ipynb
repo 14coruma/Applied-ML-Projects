{
 "cells": [
  {
   "cell_type": "markdown",
   "id": "broadband-hearing",
   "metadata": {},
   "source": [
    "# Homework 4: Unsupervised Learning\n",
    "Andrew Corum, Brendan Mcshane\n",
    "\n",
    "## Question 1"
   ]
  },
  {
   "cell_type": "markdown",
   "id": "furnished-nature",
   "metadata": {},
   "source": [
    "## Question 2"
   ]
  },
  {
   "cell_type": "code",
   "execution_count": 1,
   "id": "rotary-geology",
   "metadata": {},
   "outputs": [],
   "source": [
    "import numpy as np"
   ]
  },
  {
   "cell_type": "markdown",
   "id": "therapeutic-cable",
   "metadata": {},
   "source": [
    "## Resources"
   ]
  }
 ],
 "metadata": {
  "kernelspec": {
   "display_name": "Python 3",
   "language": "python",
   "name": "python3"
  },
  "language_info": {
   "codemirror_mode": {
    "name": "ipython",
    "version": 3
   },
   "file_extension": ".py",
   "mimetype": "text/x-python",
   "name": "python",
   "nbconvert_exporter": "python",
   "pygments_lexer": "ipython3",
   "version": "3.8.5"
  }
 },
 "nbformat": 4,
 "nbformat_minor": 5
}
